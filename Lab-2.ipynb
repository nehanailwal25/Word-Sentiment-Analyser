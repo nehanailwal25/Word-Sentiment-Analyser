{
 "cells": [
  {
   "cell_type": "markdown",
   "id": "96220ef6",
   "metadata": {},
   "source": [
    "# Word Sentiment Analyser"
   ]
  },
  {
   "cell_type": "code",
   "execution_count": 695,
   "id": "6a21b3f9",
   "metadata": {},
   "outputs": [
    {
     "name": "stdout",
     "output_type": "stream",
     "text": [
      "Requirement already satisfied: xgboost in c:\\programdata\\anaconda3\\lib\\site-packages (1.5.0)\n",
      "Requirement already satisfied: numpy in c:\\programdata\\anaconda3\\lib\\site-packages (from xgboost) (1.20.1)\n",
      "Requirement already satisfied: scipy in c:\\programdata\\anaconda3\\lib\\site-packages (from xgboost) (1.6.2)\n"
     ]
    },
    {
     "name": "stderr",
     "output_type": "stream",
     "text": [
      "[nltk_data] Downloading package stopwords to C:\\Users\\Neha\n",
      "[nltk_data]     Sharma\\AppData\\Roaming\\nltk_data...\n",
      "[nltk_data]   Package stopwords is already up-to-date!\n",
      "[nltk_data] Downloading package wordnet to C:\\Users\\Neha\n",
      "[nltk_data]     Sharma\\AppData\\Roaming\\nltk_data...\n",
      "[nltk_data]   Package wordnet is already up-to-date!\n",
      "[nltk_data] Downloading package punkt to C:\\Users\\Neha\n",
      "[nltk_data]     Sharma\\AppData\\Roaming\\nltk_data...\n",
      "[nltk_data]   Package punkt is already up-to-date!\n"
     ]
    }
   ],
   "source": [
    "!pip3 install xgboost\n",
    "import string \n",
    "\n",
    "import nltk\n",
    "nltk.download('stopwords')\n",
    "nltk.download('wordnet')\n",
    "nltk.download('punkt')\n",
    "\n",
    "from nltk.corpus import stopwords\n",
    "from nltk.tokenize import sent_tokenize, word_tokenize\n",
    "from nltk.stem import WordNetLemmatizer\n",
    "from nltk.stem.porter import PorterStemmer\n",
    "\n",
    "import numpy as np\n",
    "import pandas as pd\n",
    "from sklearn.feature_extraction.text import CountVectorizer\n",
    "from sklearn.ensemble import RandomForestClassifier\n",
    "from sklearn import datasets\n",
    "from sklearn.model_selection import train_test_split\n",
    "\n",
    "from sklearn.model_selection import cross_val_score\n",
    "\n",
    "from sklearn.metrics import confusion_matrix, accuracy_score\n",
    "from sklearn.metrics import classification_report\n",
    "\n",
    "from sklearn.linear_model import LogisticRegression\n",
    "from sklearn.neighbors import KNeighborsClassifier\n",
    "from sklearn.svm import SVC\n",
    "from sklearn.naive_bayes import GaussianNB\n",
    "from sklearn.tree import DecisionTreeClassifier\n",
    "from xgboost import XGBClassifier\n",
    "\n",
    "from sklearn.model_selection import cross_val_score\n",
    "\n",
    "import warnings\n",
    "import sklearn.exceptions\n",
    "warnings.filterwarnings(\"ignore\", category=sklearn.exceptions.UndefinedMetricWarning)\n",
    "\n",
    "import warnings\n",
    "warnings.filterwarnings('ignore')"
   ]
  },
  {
   "cell_type": "code",
   "execution_count": 696,
   "id": "d50cbe1c",
   "metadata": {},
   "outputs": [
    {
     "data": {
      "text/html": [
       "<div>\n",
       "<style scoped>\n",
       "    .dataframe tbody tr th:only-of-type {\n",
       "        vertical-align: middle;\n",
       "    }\n",
       "\n",
       "    .dataframe tbody tr th {\n",
       "        vertical-align: top;\n",
       "    }\n",
       "\n",
       "    .dataframe thead th {\n",
       "        text-align: right;\n",
       "    }\n",
       "</style>\n",
       "<table border=\"1\" class=\"dataframe\">\n",
       "  <thead>\n",
       "    <tr style=\"text-align: right;\">\n",
       "      <th></th>\n",
       "      <th>inline-comment-id</th>\n",
       "      <th># Comment</th>\n",
       "      <th>Question</th>\n",
       "      <th>Low-level Label</th>\n",
       "      <th>Top-level Label</th>\n",
       "    </tr>\n",
       "  </thead>\n",
       "  <tbody>\n",
       "    <tr>\n",
       "      <th>0</th>\n",
       "      <td>84326dd1_566c7146</td>\n",
       "      <td>1</td>\n",
       "      <td>is this what they intended? don't they really ...</td>\n",
       "      <td>request for confirmation</td>\n",
       "      <td>request</td>\n",
       "    </tr>\n",
       "    <tr>\n",
       "      <th>1</th>\n",
       "      <td>84326dd1_566c7146</td>\n",
       "      <td>2</td>\n",
       "      <td>is this what they intended? don't they really ...</td>\n",
       "      <td>surprise</td>\n",
       "      <td>attitudes and emotions</td>\n",
       "    </tr>\n",
       "    <tr>\n",
       "      <th>2</th>\n",
       "      <td>99d1f8e4_92b31cea</td>\n",
       "      <td>3</td>\n",
       "      <td>Don't we need to increment 'i' in the else cas...</td>\n",
       "      <td>suggestion</td>\n",
       "      <td>suggestion</td>\n",
       "    </tr>\n",
       "    <tr>\n",
       "      <th>3</th>\n",
       "      <td>193d089f_f5fac752</td>\n",
       "      <td>4</td>\n",
       "      <td>i can't see anywhere where this is set to fals...</td>\n",
       "      <td>suggestion</td>\n",
       "      <td>suggestion</td>\n",
       "    </tr>\n",
       "    <tr>\n",
       "      <th>4</th>\n",
       "      <td>50c2f81e_ac4fd6fc</td>\n",
       "      <td>5</td>\n",
       "      <td>are you sure you want to include this source f...</td>\n",
       "      <td>criticism</td>\n",
       "      <td>attitudes and emotions</td>\n",
       "    </tr>\n",
       "  </tbody>\n",
       "</table>\n",
       "</div>"
      ],
      "text/plain": [
       "   inline-comment-id  # Comment  \\\n",
       "0  84326dd1_566c7146          1   \n",
       "1  84326dd1_566c7146          2   \n",
       "2  99d1f8e4_92b31cea          3   \n",
       "3  193d089f_f5fac752          4   \n",
       "4  50c2f81e_ac4fd6fc          5   \n",
       "\n",
       "                                            Question  \\\n",
       "0  is this what they intended? don't they really ...   \n",
       "1  is this what they intended? don't they really ...   \n",
       "2  Don't we need to increment 'i' in the else cas...   \n",
       "3  i can't see anywhere where this is set to fals...   \n",
       "4  are you sure you want to include this source f...   \n",
       "\n",
       "            Low-level Label         Top-level Label  \n",
       "0  request for confirmation                 request  \n",
       "1                  surprise  attitudes and emotions  \n",
       "2                suggestion              suggestion  \n",
       "3                suggestion              suggestion  \n",
       "4                 criticism  attitudes and emotions  "
      ]
     },
     "execution_count": 696,
     "metadata": {},
     "output_type": "execute_result"
    }
   ],
   "source": [
    "#dataset for no text processing\n",
    "\n",
    "dataset = pd.read_csv(r\"C:\\Users\\Neha Sharma\\Desktop\\Data driven SE\\Assignment-2\\Lab 2_icsme-questions-labeled.csv\");\n",
    "dataset.head()"
   ]
  },
  {
   "cell_type": "markdown",
   "id": "0d43fd3f",
   "metadata": {},
   "source": [
    "## Dataset Preprocessing"
   ]
  },
  {
   "cell_type": "code",
   "execution_count": 697,
   "id": "97a36abe",
   "metadata": {},
   "outputs": [
    {
     "data": {
      "text/html": [
       "<div>\n",
       "<style scoped>\n",
       "    .dataframe tbody tr th:only-of-type {\n",
       "        vertical-align: middle;\n",
       "    }\n",
       "\n",
       "    .dataframe tbody tr th {\n",
       "        vertical-align: top;\n",
       "    }\n",
       "\n",
       "    .dataframe thead th {\n",
       "        text-align: right;\n",
       "    }\n",
       "</style>\n",
       "<table border=\"1\" class=\"dataframe\">\n",
       "  <thead>\n",
       "    <tr style=\"text-align: right;\">\n",
       "      <th></th>\n",
       "      <th>inline-comment-id</th>\n",
       "      <th># Comment</th>\n",
       "      <th>Question</th>\n",
       "      <th>Low-level Label</th>\n",
       "      <th>Top-level Label</th>\n",
       "    </tr>\n",
       "  </thead>\n",
       "  <tbody>\n",
       "    <tr>\n",
       "      <th>0</th>\n",
       "      <td>84326dd1_566c7146</td>\n",
       "      <td>1</td>\n",
       "      <td>is this what they intended? don't they really ...</td>\n",
       "      <td>request for confirmation</td>\n",
       "      <td>request</td>\n",
       "    </tr>\n",
       "    <tr>\n",
       "      <th>1</th>\n",
       "      <td>84326dd1_566c7146</td>\n",
       "      <td>2</td>\n",
       "      <td>is this what they intended? don't they really ...</td>\n",
       "      <td>surprise</td>\n",
       "      <td>attitudes and emotions</td>\n",
       "    </tr>\n",
       "    <tr>\n",
       "      <th>2</th>\n",
       "      <td>99d1f8e4_92b31cea</td>\n",
       "      <td>3</td>\n",
       "      <td>Don't we need to increment 'i' in the else cas...</td>\n",
       "      <td>suggestion</td>\n",
       "      <td>suggestion</td>\n",
       "    </tr>\n",
       "    <tr>\n",
       "      <th>3</th>\n",
       "      <td>193d089f_f5fac752</td>\n",
       "      <td>4</td>\n",
       "      <td>i can't see anywhere where this is set to fals...</td>\n",
       "      <td>suggestion</td>\n",
       "      <td>suggestion</td>\n",
       "    </tr>\n",
       "    <tr>\n",
       "      <th>4</th>\n",
       "      <td>50c2f81e_ac4fd6fc</td>\n",
       "      <td>5</td>\n",
       "      <td>are you sure you want to include this source f...</td>\n",
       "      <td>criticism</td>\n",
       "      <td>attitudes and emotions</td>\n",
       "    </tr>\n",
       "  </tbody>\n",
       "</table>\n",
       "</div>"
      ],
      "text/plain": [
       "   inline-comment-id  # Comment  \\\n",
       "0  84326dd1_566c7146          1   \n",
       "1  84326dd1_566c7146          2   \n",
       "2  99d1f8e4_92b31cea          3   \n",
       "3  193d089f_f5fac752          4   \n",
       "4  50c2f81e_ac4fd6fc          5   \n",
       "\n",
       "                                            Question  \\\n",
       "0  is this what they intended? don't they really ...   \n",
       "1  is this what they intended? don't they really ...   \n",
       "2  Don't we need to increment 'i' in the else cas...   \n",
       "3  i can't see anywhere where this is set to fals...   \n",
       "4  are you sure you want to include this source f...   \n",
       "\n",
       "            Low-level Label         Top-level Label  \n",
       "0  request for confirmation                 request  \n",
       "1                  surprise  attitudes and emotions  \n",
       "2                suggestion              suggestion  \n",
       "3                suggestion              suggestion  \n",
       "4                 criticism  attitudes and emotions  "
      ]
     },
     "execution_count": 697,
     "metadata": {},
     "output_type": "execute_result"
    }
   ],
   "source": [
    "#dataset for preprocessing\n",
    "\n",
    "dataset_preprocessed = pd.read_csv(r\"C:\\Users\\Neha Sharma\\Desktop\\Data driven SE\\Assignment-2\\Lab 2_icsme-questions-labeled.csv\");\n",
    "dataset_preprocessed.head()"
   ]
  },
  {
   "cell_type": "code",
   "execution_count": 698,
   "id": "733e6647",
   "metadata": {},
   "outputs": [
    {
     "data": {
      "text/html": [
       "<div>\n",
       "<style scoped>\n",
       "    .dataframe tbody tr th:only-of-type {\n",
       "        vertical-align: middle;\n",
       "    }\n",
       "\n",
       "    .dataframe tbody tr th {\n",
       "        vertical-align: top;\n",
       "    }\n",
       "\n",
       "    .dataframe thead th {\n",
       "        text-align: right;\n",
       "    }\n",
       "</style>\n",
       "<table border=\"1\" class=\"dataframe\">\n",
       "  <thead>\n",
       "    <tr style=\"text-align: right;\">\n",
       "      <th></th>\n",
       "      <th>inline-comment-id</th>\n",
       "      <th># Comment</th>\n",
       "      <th>Question</th>\n",
       "      <th>Low-level Label</th>\n",
       "      <th>Top-level Label</th>\n",
       "    </tr>\n",
       "  </thead>\n",
       "  <tbody>\n",
       "    <tr>\n",
       "      <th>0</th>\n",
       "      <td>84326dd1_566c7146</td>\n",
       "      <td>1</td>\n",
       "      <td>intend dont realli want targetoutdatanativetest</td>\n",
       "      <td>request for confirmation</td>\n",
       "      <td>request</td>\n",
       "    </tr>\n",
       "    <tr>\n",
       "      <th>1</th>\n",
       "      <td>84326dd1_566c7146</td>\n",
       "      <td>2</td>\n",
       "      <td>intend dont realli want targetoutdatanativetest</td>\n",
       "      <td>surprise</td>\n",
       "      <td>attitudes and emotions</td>\n",
       "    </tr>\n",
       "    <tr>\n",
       "      <th>2</th>\n",
       "      <td>99d1f8e4_92b31cea</td>\n",
       "      <td>3</td>\n",
       "      <td>dont need increment el case avoid infinit loop</td>\n",
       "      <td>suggestion</td>\n",
       "      <td>suggestion</td>\n",
       "    </tr>\n",
       "    <tr>\n",
       "      <th>3</th>\n",
       "      <td>193d089f_f5fac752</td>\n",
       "      <td>4</td>\n",
       "      <td>cant see anywher set fals adjust singl refer b...</td>\n",
       "      <td>suggestion</td>\n",
       "      <td>suggestion</td>\n",
       "    </tr>\n",
       "    <tr>\n",
       "      <th>4</th>\n",
       "      <td>50c2f81e_ac4fd6fc</td>\n",
       "      <td>5</td>\n",
       "      <td>sure want includ sourc file directli creat sta...</td>\n",
       "      <td>criticism</td>\n",
       "      <td>attitudes and emotions</td>\n",
       "    </tr>\n",
       "  </tbody>\n",
       "</table>\n",
       "</div>"
      ],
      "text/plain": [
       "   inline-comment-id  # Comment  \\\n",
       "0  84326dd1_566c7146          1   \n",
       "1  84326dd1_566c7146          2   \n",
       "2  99d1f8e4_92b31cea          3   \n",
       "3  193d089f_f5fac752          4   \n",
       "4  50c2f81e_ac4fd6fc          5   \n",
       "\n",
       "                                            Question  \\\n",
       "0    intend dont realli want targetoutdatanativetest   \n",
       "1    intend dont realli want targetoutdatanativetest   \n",
       "2     dont need increment el case avoid infinit loop   \n",
       "3  cant see anywher set fals adjust singl refer b...   \n",
       "4  sure want includ sourc file directli creat sta...   \n",
       "\n",
       "            Low-level Label         Top-level Label  \n",
       "0  request for confirmation                 request  \n",
       "1                  surprise  attitudes and emotions  \n",
       "2                suggestion              suggestion  \n",
       "3                suggestion              suggestion  \n",
       "4                 criticism  attitudes and emotions  "
      ]
     },
     "execution_count": 698,
     "metadata": {},
     "output_type": "execute_result"
    }
   ],
   "source": [
    "#Covert to String\n",
    "dataset_preprocessed[\"Question\"] = dataset_preprocessed[\"Question\"].astype(str)\n",
    "\n",
    "#Covert all characters to lower\n",
    "dataset_preprocessed[\"Question\"] = dataset_preprocessed[\"Question\"].str.lower()\n",
    "\n",
    "#Remove punchuation marks\n",
    "PUNCT_TO_REMOVE = string.punctuation\n",
    "def remove_punctuation(text):\n",
    "    \"\"\"custom function to remove the punctuation\"\"\"\n",
    "    return text.translate(str.maketrans('', '', PUNCT_TO_REMOVE))\n",
    "\n",
    "#Remove Stopwords\n",
    "STOPWORDS = set(stopwords.words('english'))\n",
    "def remove_stopwords(text):\n",
    "    \"\"\"custom function to remove the stopwords\"\"\"\n",
    "    return \" \".join([word for word in str(text).split() if word not in STOPWORDS])\n",
    "\n",
    "#Removing Frequent words\n",
    "from collections import Counter\n",
    "cnt = Counter()\n",
    "for text in dataset_preprocessed[\"Question\"].values:\n",
    "    for word in text.split():\n",
    "        cnt[word] += 1\n",
    "cnt.most_common(10)\n",
    "\n",
    "FREQWORDS = set([w for (w, wc) in cnt.most_common(10)])\n",
    "def remove_freqwords(text):\n",
    "    \"\"\"custom function to remove the frequent words\"\"\"\n",
    "    return \" \".join([word for word in str(text).split() if word not in FREQWORDS])\n",
    "\n",
    "#Remove Rare Words\n",
    "n_rare_words = 10\n",
    "RAREWORDS = set([w for (w, wc) in cnt.most_common()[:-n_rare_words-1:-1]])\n",
    "def remove_rarewords(text):\n",
    "    \"\"\"custom function to remove the rare words\"\"\"\n",
    "    return \" \".join([word for word in str(text).split() if word not in RAREWORDS])\n",
    "\n",
    "#stemming\n",
    "stemmer = PorterStemmer()\n",
    "def stem_words(text):\n",
    "    return \" \".join([stemmer.stem(word) for word in text.split()])\n",
    "\n",
    "#Lemmetizing\n",
    "lemmatizer = WordNetLemmatizer()\n",
    "def lemmatize_words(text):\n",
    "    return \" \".join([lemmatizer.lemmatize(word) for word in text.split()])\n",
    "\n",
    "\n",
    "#calling all functions\n",
    "dataset_preprocessed[\"Question\"] = dataset_preprocessed[\"Question\"].apply(lambda text: remove_punctuation(text))\n",
    "dataset_preprocessed[\"Question\"] = dataset_preprocessed[\"Question\"].apply(lambda text: remove_stopwords(text))\n",
    "dataset_preprocessed[\"Question\"] = dataset_preprocessed[\"Question\"].apply(lambda text: remove_punctuation(text))\n",
    "dataset_preprocessed[\"Question\"] = dataset_preprocessed[\"Question\"].apply(lambda text: remove_stopwords(text))\n",
    "dataset_preprocessed[\"Question\"] = dataset_preprocessed[\"Question\"].apply(lambda text: remove_freqwords(text))\n",
    "dataset_preprocessed[\"Question\"] = dataset_preprocessed[\"Question\"].apply(lambda text: remove_rarewords(text))\n",
    "dataset_preprocessed[\"Question\"] = dataset_preprocessed[\"Question\"].apply(lambda text: stem_words(text))\n",
    "dataset_preprocessed[\"Question\"] = dataset_preprocessed[\"Question\"].apply(lambda text: lemmatize_words(text))\n",
    "\n",
    "#dataset after preprocessing\n",
    "dataset_preprocessed.head()"
   ]
  },
  {
   "cell_type": "markdown",
   "id": "af449512",
   "metadata": {},
   "source": [
    "## Random forest - after preprocessing"
   ]
  },
  {
   "cell_type": "code",
   "execution_count": 699,
   "id": "65a708cb",
   "metadata": {},
   "outputs": [
    {
     "name": "stdout",
     "output_type": "stream",
     "text": [
      "(444,) (50,) (444,) (50,)\n"
     ]
    }
   ],
   "source": [
    "#X_p <- Feature variables set with data pre-processing\n",
    "#y_p <- Target variables set with data pre-processing\n",
    "\n",
    "#X_train_p,y_train_p <- Training Sets with processed data\n",
    "#X_test_p, y_test_p <- Test Sets with processed data\n",
    "\n",
    "X_p = dataset_preprocessed.iloc[:,2]\n",
    "y_p = dataset_preprocessed.iloc[:,4].values\n",
    "\n",
    "X_train_p, X_test_p, y_train_p, y_test_p = train_test_split(X_p, y_p,test_size=0.1, random_state=42)\n",
    "print(X_train_p.shape, X_test_p.shape, y_train_p.shape, y_test_p.shape)"
   ]
  },
  {
   "cell_type": "code",
   "execution_count": 700,
   "id": "c1c1431b",
   "metadata": {},
   "outputs": [],
   "source": [
    "#Using Count Vectorizer\n",
    "vectorizer_p = CountVectorizer()"
   ]
  },
  {
   "cell_type": "code",
   "execution_count": 701,
   "id": "a230da83",
   "metadata": {},
   "outputs": [
    {
     "name": "stdout",
     "output_type": "stream",
     "text": [
      "(444,)\n",
      "(50,)\n"
     ]
    }
   ],
   "source": [
    "print(y_train_p.shape)\n",
    "print(y_test_p.shape)"
   ]
  },
  {
   "cell_type": "code",
   "execution_count": 702,
   "id": "fd014b9a",
   "metadata": {},
   "outputs": [],
   "source": [
    "X_train_p = vectorizer_p.fit_transform(X_train_p)\n",
    "X_test_p = vectorizer_p.transform(X_test_p)"
   ]
  },
  {
   "cell_type": "code",
   "execution_count": 703,
   "id": "1b85d492",
   "metadata": {},
   "outputs": [
    {
     "name": "stdout",
     "output_type": "stream",
     "text": [
      "(444, 1484)\n",
      "(444,)\n",
      "(50, 1484)\n",
      "(50,)\n"
     ]
    }
   ],
   "source": [
    "print(X_train_p.shape)\n",
    "print(y_train_p.shape)\n",
    "print(X_test_p.shape)\n",
    "print(y_test_p.shape)"
   ]
  },
  {
   "cell_type": "code",
   "execution_count": 704,
   "id": "05a61012",
   "metadata": {},
   "outputs": [
    {
     "name": "stdout",
     "output_type": "stream",
     "text": [
      "Training set score :0.8738738738738738\n",
      "Test set score :0.46\n"
     ]
    }
   ],
   "source": [
    "#Random forest model implementation\n",
    "rf_p = RandomForestClassifier(n_estimators = 10, criterion = 'entropy', random_state = 0)\n",
    "rf_p.fit(X_train_p, y_train_p)\n",
    "print(\"Training set score :{}\".format(rf_p.score(X_train_p,y_train_p)))\n",
    "print(\"Test set score :{}\".format(rf_p.score(X_test_p,y_test_p)))"
   ]
  },
  {
   "cell_type": "code",
   "execution_count": 705,
   "id": "4a61e3b2",
   "metadata": {},
   "outputs": [
    {
     "name": "stdout",
     "output_type": "stream",
     "text": [
      "[[ 0  0  4  0  1]\n",
      " [ 0  0  1  0  0]\n",
      " [ 1  2 17  1  9]\n",
      " [ 0  0  0  0  0]\n",
      " [ 0  0  8  0  6]]\n"
     ]
    }
   ],
   "source": [
    "#confusion matrix\n",
    "y_pred_p = rf_p.predict(X_test_p)\n",
    "cm_p = confusion_matrix(y_test_p, y_pred_p)\n",
    "print(cm_p)"
   ]
  },
  {
   "cell_type": "code",
   "execution_count": 706,
   "id": "473feb29",
   "metadata": {},
   "outputs": [
    {
     "name": "stdout",
     "output_type": "stream",
     "text": [
      "                        precision    recall  f1-score   support\n",
      "\n",
      "attitudes and emotions       0.00      0.00      0.00         5\n",
      " hypothetical scenario       0.00      0.00      0.00         1\n",
      "               request       0.57      0.57      0.57        30\n",
      "   rhetorical question       0.00      0.00      0.00         0\n",
      "            suggestion       0.38      0.43      0.40        14\n",
      "\n",
      "              accuracy                           0.46        50\n",
      "             macro avg       0.19      0.20      0.19        50\n",
      "          weighted avg       0.45      0.46      0.45        50\n",
      "\n"
     ]
    }
   ],
   "source": [
    "#classification Report\n",
    "print(classification_report(y_test_p, y_pred_p))"
   ]
  },
  {
   "cell_type": "code",
   "execution_count": 707,
   "id": "10a7ccac",
   "metadata": {},
   "outputs": [
    {
     "name": "stdout",
     "output_type": "stream",
     "text": [
      "Accuracy for the fold no. 0 on the test set: 0.6\n",
      "Accuracy for the fold no. 1 on the test set: 0.4888888888888889\n",
      "Accuracy for the fold no. 2 on the test set: 0.4888888888888889\n",
      "Accuracy for the fold no. 3 on the test set: 0.4888888888888889\n",
      "Accuracy for the fold no. 4 on the test set: 0.4772727272727273\n",
      "Accuracy for the fold no. 5 on the test set: 0.5681818181818182\n",
      "Accuracy for the fold no. 6 on the test set: 0.5227272727272727\n",
      "Accuracy for the fold no. 7 on the test set: 0.5227272727272727\n",
      "Accuracy for the fold no. 8 on the test set: 0.5227272727272727\n",
      "Accuracy for the fold no. 9 on the test set: 0.5227272727272727\n",
      "\n",
      "average 10-fold cross validation Accuracy is: 0.5203030303030303\n",
      "\n",
      "average 10-fold cross validation Accuracy percentage is: 52.030303030303024\n"
     ]
    }
   ],
   "source": [
    "#finding accuracy\n",
    "from sklearn.model_selection import cross_validate\n",
    "avg_acc_score=0\n",
    "for i, score in enumerate(cross_validate(rf_p, X_train_p, y_train_p, scoring='accuracy', cv=10)[\"test_score\"]):\n",
    "    avg_acc_score += score\n",
    "    print(f\"Accuracy for the fold no. {i} on the test set: {score}\")\n",
    "print(f\"\\naverage 10-fold cross validation Accuracy is: {avg_acc_score/10}\")\n",
    "print(f\"\\naverage 10-fold cross validation Accuracy percentage is: {(avg_acc_score/10)*100}\")"
   ]
  },
  {
   "cell_type": "code",
   "execution_count": 708,
   "id": "f0961a56",
   "metadata": {},
   "outputs": [
    {
     "name": "stdout",
     "output_type": "stream",
     "text": [
      "Precision for the fold no. 0 on the test set: 0.5674603174603174\n",
      "Precision for the fold no. 1 on the test set: 0.42857142857142855\n",
      "Precision for the fold no. 2 on the test set: 0.43606701940035275\n",
      "Precision for the fold no. 3 on the test set: 0.397979797979798\n",
      "Precision for the fold no. 4 on the test set: 0.42424242424242425\n",
      "Precision for the fold no. 5 on the test set: 0.5010822510822511\n",
      "Precision for the fold no. 6 on the test set: 0.465564738292011\n",
      "Precision for the fold no. 7 on the test set: 0.46529484029484036\n",
      "Precision for the fold no. 8 on the test set: 0.43087121212121215\n",
      "Precision for the fold no. 9 on the test set: 0.4693181818181818\n",
      "\n",
      "average 10-fold cross validation Precision is: 0.4586452211262818\n",
      "\n",
      "average 10-fold cross validation Precision percentage is: 45.86452211262818\n"
     ]
    }
   ],
   "source": [
    "#finding precision\n",
    "avg_precision=0\n",
    "for i, score in enumerate(cross_validate(rf_p, X_train_p, y_train_p, scoring='precision_weighted', cv=10)[\"test_score\"]):\n",
    "    avg_precision += score\n",
    "    print(f\"Precision for the fold no. {i} on the test set: {score}\")\n",
    "print(f\"\\naverage 10-fold cross validation Precision is: {avg_precision/10}\")\n",
    "print(f\"\\naverage 10-fold cross validation Precision percentage is: {(avg_precision/10)*100}\")"
   ]
  },
  {
   "cell_type": "code",
   "execution_count": 709,
   "id": "378f4d20",
   "metadata": {},
   "outputs": [
    {
     "name": "stdout",
     "output_type": "stream",
     "text": [
      "Recall for the fold no. 0 on the test set: 0.6\n",
      "Recall for the fold no. 1 on the test set: 0.4888888888888889\n",
      "Recall for the fold no. 2 on the test set: 0.4888888888888889\n",
      "Recall for the fold no. 3 on the test set: 0.4888888888888889\n",
      "Recall for the fold no. 4 on the test set: 0.4772727272727273\n",
      "Recall for the fold no. 5 on the test set: 0.5681818181818182\n",
      "Recall for the fold no. 6 on the test set: 0.5227272727272727\n",
      "Recall for the fold no. 7 on the test set: 0.5227272727272727\n",
      "Recall for the fold no. 8 on the test set: 0.5227272727272727\n",
      "Recall for the fold no. 9 on the test set: 0.5227272727272727\n",
      "\n",
      "average 10-fold cross validation Recall is: 0.5203030303030303\n",
      "\n",
      "average 10-fold cross validation Recall percentage is: 52.030303030303024 \n"
     ]
    }
   ],
   "source": [
    "#finding recall\n",
    "avg_recall=0\n",
    "for i, score in enumerate(cross_validate(rf_p, X_train_p, y_train_p, scoring='recall_weighted', cv=10)[\"test_score\"]):\n",
    "    avg_recall += score\n",
    "    print(f\"Recall for the fold no. {i} on the test set: {score}\")\n",
    "print(f\"\\naverage 10-fold cross validation Recall is: {avg_recall/10}\")\n",
    "print(f\"\\naverage 10-fold cross validation Recall percentage is: {(avg_recall/10)*100} \")"
   ]
  },
  {
   "cell_type": "code",
   "execution_count": 710,
   "id": "12ab7c72",
   "metadata": {},
   "outputs": [
    {
     "name": "stdout",
     "output_type": "stream",
     "text": [
      "f1-score for the fold no. 0 on the test set: 0.5822308971300514\n",
      "f1-score for the fold no. 1 on the test set: 0.43386243386243384\n",
      "f1-score for the fold no. 2 on the test set: 0.43699287961583044\n",
      "f1-score for the fold no. 3 on the test set: 0.43247863247863244\n",
      "f1-score for the fold no. 4 on the test set: 0.41363636363636364\n",
      "f1-score for the fold no. 5 on the test set: 0.5118451463790447\n",
      "f1-score for the fold no. 6 on the test set: 0.4772727272727273\n",
      "f1-score for the fold no. 7 on the test set: 0.4550777091760699\n",
      "f1-score for the fold no. 8 on the test set: 0.45256916996047436\n",
      "f1-score for the fold no. 9 on the test set: 0.48989898989898983\n",
      "\n",
      "average 10-fold cross validation f1-score is: 0.4685864949410618\n",
      "\n",
      "average 10-fold cross validation f1-score percentage is: 46.85864949410618\n"
     ]
    }
   ],
   "source": [
    "#finding f1 score\n",
    "from sklearn.model_selection import cross_validate\n",
    "f1_score=0\n",
    "for i, score in enumerate(cross_validate(rf_p, X_train_p, y_train_p, scoring='f1_weighted', cv=10)[\"test_score\"]):\n",
    "    f1_score += score\n",
    "    print(f\"f1-score for the fold no. {i} on the test set: {score}\")\n",
    "print(f\"\\naverage 10-fold cross validation f1-score is: {f1_score/10}\")\n",
    "print(f\"\\naverage 10-fold cross validation f1-score percentage is: {(f1_score/10)*100}\")"
   ]
  },
  {
   "cell_type": "markdown",
   "id": "536f6858",
   "metadata": {},
   "source": [
    "##  Improved model (Kernel SVM) - with preprocessing"
   ]
  },
  {
   "cell_type": "code",
   "execution_count": 713,
   "id": "6ba666f1",
   "metadata": {},
   "outputs": [
    {
     "name": "stdout",
     "output_type": "stream",
     "text": [
      "[[ 0  0  5  0  0]\n",
      " [ 0  0  1  0  0]\n",
      " [ 0  2 25  1  2]\n",
      " [ 0  0  0  0  0]\n",
      " [ 0  0 10  0  4]]\n",
      "0.58\n",
      "                        precision    recall  f1-score   support\n",
      "\n",
      "attitudes and emotions       0.00      0.00      0.00         5\n",
      " hypothetical scenario       0.00      0.00      0.00         1\n",
      "               request       0.61      0.83      0.70        30\n",
      "   rhetorical question       0.00      0.00      0.00         0\n",
      "            suggestion       0.67      0.29      0.40        14\n",
      "\n",
      "              accuracy                           0.58        50\n",
      "             macro avg       0.26      0.22      0.22        50\n",
      "          weighted avg       0.55      0.58      0.53        50\n",
      "\n",
      "Training set score :0.759009009009009\n",
      "Test set score :0.58\n"
     ]
    }
   ],
   "source": [
    "#SVM model\n",
    "svm_kernel_p = SVC(kernel = 'rbf', random_state = 0)\n",
    "svm_kernel_p.fit(X_train_p, y_train_p)\n",
    "\n",
    "y_pred_ksvm_p = svm_kernel_p.predict(X_test_p)\n",
    "cm_p = confusion_matrix(y_test_p, y_pred_ksvm_p)\n",
    "print(cm_p)\n",
    "print(accuracy_score(y_test_p, y_pred_ksvm_p))\n",
    "print(classification_report(y_test_p, y_pred_ksvm_p))\n",
    "print(\"Training set score :{}\".format(svm_kernel_p.score(X_train_p,y_train_p)))\n",
    "print(\"Test set score :{}\".format(svm_kernel_p.score(X_test_p,y_test_p)))"
   ]
  },
  {
   "cell_type": "code",
   "execution_count": 714,
   "id": "b7af4a05",
   "metadata": {},
   "outputs": [
    {
     "name": "stdout",
     "output_type": "stream",
     "text": [
      "Accuracy for the fold no. 0 on the test set: 0.5777777777777777\n",
      "Accuracy for the fold no. 1 on the test set: 0.5111111111111111\n",
      "Accuracy for the fold no. 2 on the test set: 0.4888888888888889\n",
      "Accuracy for the fold no. 3 on the test set: 0.4888888888888889\n",
      "Accuracy for the fold no. 4 on the test set: 0.5\n",
      "Accuracy for the fold no. 5 on the test set: 0.5454545454545454\n",
      "Accuracy for the fold no. 6 on the test set: 0.5227272727272727\n",
      "Accuracy for the fold no. 7 on the test set: 0.5681818181818182\n",
      "Accuracy for the fold no. 8 on the test set: 0.5681818181818182\n",
      "Accuracy for the fold no. 9 on the test set: 0.5454545454545454\n",
      "\n",
      "average 10-fold cross validation Accuracy is: 0.5316666666666666\n",
      "\n",
      "average 10-fold cross validation Accuracy percentage is: 53.166666666666664\n"
     ]
    }
   ],
   "source": [
    "from sklearn.model_selection import cross_validate\n",
    "avg_acc_score=0\n",
    "for i, score in enumerate(cross_validate(svm_kernel_p, X_train_p, y_train_p, scoring='accuracy', cv=10)[\"test_score\"]):\n",
    "    avg_acc_score += score\n",
    "    print(f\"Accuracy for the fold no. {i} on the test set: {score}\")\n",
    "print(f\"\\naverage 10-fold cross validation Accuracy is: {avg_acc_score/10}\")\n",
    "print(f\"\\naverage 10-fold cross validation Accuracy percentage is: {(avg_acc_score/10)*100}\")"
   ]
  },
  {
   "cell_type": "code",
   "execution_count": 715,
   "id": "863a1973",
   "metadata": {},
   "outputs": [
    {
     "name": "stdout",
     "output_type": "stream",
     "text": [
      "Precision for the fold no. 0 on the test set: 0.49430199430199434\n",
      "Precision for the fold no. 1 on the test set: 0.4181286549707603\n",
      "Precision for the fold no. 2 on the test set: 0.4035087719298245\n",
      "Precision for the fold no. 3 on the test set: 0.2861788617886179\n",
      "Precision for the fold no. 4 on the test set: 0.4007177033492823\n",
      "Precision for the fold no. 5 on the test set: 0.4718899521531101\n",
      "Precision for the fold no. 6 on the test set: 0.43779904306220097\n",
      "Precision for the fold no. 7 on the test set: 0.533259423503326\n",
      "Precision for the fold no. 8 on the test set: 0.6453488372093023\n",
      "Precision for the fold no. 9 on the test set: 0.4521531100478469\n",
      "\n",
      "average 10-fold cross validation Precision is: 0.4543286352316266\n",
      "\n",
      "average 10-fold cross validation Precision percentage is: 45.43286352316266\n"
     ]
    }
   ],
   "source": [
    "avg_precision=0\n",
    "for i, score in enumerate(cross_validate(svm_kernel_p, X_train_p, y_train_p, scoring='precision_weighted', cv=10)[\"test_score\"]):\n",
    "    avg_precision += score\n",
    "    print(f\"Precision for the fold no. {i} on the test set: {score}\")\n",
    "print(f\"\\naverage 10-fold cross validation Precision is: {avg_precision/10}\")\n",
    "print(f\"\\naverage 10-fold cross validation Precision percentage is: {(avg_precision/10)*100}\")"
   ]
  },
  {
   "cell_type": "code",
   "execution_count": 716,
   "id": "d4390329",
   "metadata": {
    "scrolled": true
   },
   "outputs": [
    {
     "name": "stdout",
     "output_type": "stream",
     "text": [
      "Recall for the fold no. 0 on the test set: 0.5777777777777777\n",
      "Recall for the fold no. 1 on the test set: 0.5111111111111111\n",
      "Recall for the fold no. 2 on the test set: 0.4888888888888889\n",
      "Recall for the fold no. 3 on the test set: 0.4888888888888889\n",
      "Recall for the fold no. 4 on the test set: 0.5\n",
      "Recall for the fold no. 5 on the test set: 0.5454545454545454\n",
      "Recall for the fold no. 6 on the test set: 0.5227272727272727\n",
      "Recall for the fold no. 7 on the test set: 0.5681818181818182\n",
      "Recall for the fold no. 8 on the test set: 0.5681818181818182\n",
      "Recall for the fold no. 9 on the test set: 0.5454545454545454\n",
      "\n",
      "average 10-fold cross validation Recall is: 0.5316666666666666\n",
      "\n",
      "average 10-fold cross validation Recall percentage is: 53.166666666666664 \n"
     ]
    }
   ],
   "source": [
    "avg_recall=0\n",
    "for i, score in enumerate(cross_validate(svm_kernel_p, X_train_p, y_train_p, scoring='recall_weighted', cv=10)[\"test_score\"]):\n",
    "    avg_recall += score\n",
    "    print(f\"Recall for the fold no. {i} on the test set: {score}\")\n",
    "print(f\"\\naverage 10-fold cross validation Recall is: {avg_recall/10}\")\n",
    "print(f\"\\naverage 10-fold cross validation Recall percentage is: {(avg_recall/10)*100} \")"
   ]
  },
  {
   "cell_type": "code",
   "execution_count": 717,
   "id": "436be283",
   "metadata": {},
   "outputs": [
    {
     "name": "stdout",
     "output_type": "stream",
     "text": [
      "f1-score for the fold no. 0 on the test set: 0.49454365079365076\n",
      "f1-score for the fold no. 1 on the test set: 0.4338624338624339\n",
      "f1-score for the fold no. 2 on the test set: 0.4162257495590828\n",
      "f1-score for the fold no. 3 on the test set: 0.361025641025641\n",
      "f1-score for the fold no. 4 on the test set: 0.41684122329283624\n",
      "f1-score for the fold no. 5 on the test set: 0.4669040636782572\n",
      "f1-score for the fold no. 6 on the test set: 0.437683284457478\n",
      "f1-score for the fold no. 7 on the test set: 0.46177156177156176\n",
      "f1-score for the fold no. 8 on the test set: 0.4333870420624152\n",
      "f1-score for the fold no. 9 on the test set: 0.45527859237536655\n",
      "\n",
      "average 10-fold cross validation f1-score is: 0.43775232428787236\n",
      "\n",
      "average 10-fold cross validation f1-score percentage is: 43.775232428787234\n"
     ]
    }
   ],
   "source": [
    "#finding f1 score\n",
    "from sklearn.model_selection import cross_validate\n",
    "f1_score=0\n",
    "for i, score in enumerate(cross_validate(svm_kernel_p, X_train_p, y_train_p, scoring='f1_weighted', cv=10)[\"test_score\"]):\n",
    "    f1_score += score\n",
    "    print(f\"f1-score for the fold no. {i} on the test set: {score}\")\n",
    "print(f\"\\naverage 10-fold cross validation f1-score is: {f1_score/10}\")\n",
    "print(f\"\\naverage 10-fold cross validation f1-score percentage is: {(f1_score/10)*100}\")"
   ]
  },
  {
   "cell_type": "markdown",
   "id": "deb9d741",
   "metadata": {},
   "source": [
    "# Random forest - without processing "
   ]
  },
  {
   "cell_type": "code",
   "execution_count": 718,
   "id": "34e382b7",
   "metadata": {},
   "outputs": [
    {
     "name": "stdout",
     "output_type": "stream",
     "text": [
      "(444,) (50,) (444,) (50,)\n"
     ]
    }
   ],
   "source": [
    "#X <- Feature variables set without data pre-processing\n",
    "#y <- Target variables set without data pre-processing\n",
    "\n",
    "#X_train,y_train <- Training Sets without processed data\n",
    "#X_test, y_test <- Test Sets without processed data\n",
    "\n",
    "X = dataset.iloc[:,2].values\n",
    "y = dataset.iloc[:,4].values\n",
    "\n",
    "X_train, X_test, y_train, y_test = train_test_split(X, y,test_size=0.1, random_state=0)\n",
    "print(X_train.shape, X_test.shape, y_train.shape, y_test.shape)"
   ]
  },
  {
   "cell_type": "code",
   "execution_count": 719,
   "id": "e2df3cfc",
   "metadata": {},
   "outputs": [],
   "source": [
    "vectorizer = CountVectorizer()"
   ]
  },
  {
   "cell_type": "code",
   "execution_count": 720,
   "id": "56b1064c",
   "metadata": {},
   "outputs": [
    {
     "name": "stdout",
     "output_type": "stream",
     "text": [
      "(444,)\n",
      "(50,)\n"
     ]
    }
   ],
   "source": [
    "print(y_train.shape)\n",
    "print(y_test.shape)"
   ]
  },
  {
   "cell_type": "code",
   "execution_count": 721,
   "id": "b64ecad4",
   "metadata": {},
   "outputs": [],
   "source": [
    "X_train = vectorizer.fit_transform(X_train)\n",
    "X_test = vectorizer.transform(X_test)"
   ]
  },
  {
   "cell_type": "code",
   "execution_count": 722,
   "id": "f8cb4480",
   "metadata": {},
   "outputs": [
    {
     "name": "stdout",
     "output_type": "stream",
     "text": [
      "Training set score :0.8783783783783784\n",
      "Test set score :0.56\n"
     ]
    }
   ],
   "source": [
    "rf = RandomForestClassifier(n_estimators = 10, criterion = 'entropy', random_state = 0)\n",
    "rf.fit(X_train, y_train)\n",
    "print(\"Training set score :{}\".format(rf.score(X_train,y_train)))\n",
    "print(\"Test set score :{}\".format(rf.score(X_test,y_test)))"
   ]
  },
  {
   "cell_type": "code",
   "execution_count": 723,
   "id": "654b5383",
   "metadata": {},
   "outputs": [
    {
     "name": "stdout",
     "output_type": "stream",
     "text": [
      "[[ 0  0  6  2  0]\n",
      " [ 0  0  1  0  0]\n",
      " [ 0  0 23  5  0]\n",
      " [ 0  0  7  5  0]\n",
      " [ 0  0  0  1  0]]\n"
     ]
    }
   ],
   "source": [
    "y_pred = rf.predict(X_test)\n",
    "cm = confusion_matrix(y_test, y_pred)\n",
    "print(cm)"
   ]
  },
  {
   "cell_type": "code",
   "execution_count": 724,
   "id": "00b0ae28",
   "metadata": {},
   "outputs": [
    {
     "name": "stdout",
     "output_type": "stream",
     "text": [
      "                        precision    recall  f1-score   support\n",
      "\n",
      "attitudes and emotions       0.00      0.00      0.00         8\n",
      " hypothetical scenario       0.00      0.00      0.00         1\n",
      "               request       0.62      0.82      0.71        28\n",
      "            suggestion       0.38      0.42      0.40        12\n",
      "              surprise       0.00      0.00      0.00         1\n",
      "\n",
      "              accuracy                           0.56        50\n",
      "             macro avg       0.20      0.25      0.22        50\n",
      "          weighted avg       0.44      0.56      0.49        50\n",
      "\n"
     ]
    }
   ],
   "source": [
    "print(classification_report(y_test, y_pred))"
   ]
  },
  {
   "cell_type": "code",
   "execution_count": 725,
   "id": "5533ac7c",
   "metadata": {},
   "outputs": [
    {
     "name": "stdout",
     "output_type": "stream",
     "text": [
      "Accuracy for the fold no. 0 on the test set: 0.5333333333333333\n",
      "Accuracy for the fold no. 1 on the test set: 0.6222222222222222\n",
      "Accuracy for the fold no. 2 on the test set: 0.5111111111111111\n",
      "Accuracy for the fold no. 3 on the test set: 0.6444444444444445\n",
      "Accuracy for the fold no. 4 on the test set: 0.5681818181818182\n",
      "Accuracy for the fold no. 5 on the test set: 0.6590909090909091\n",
      "Accuracy for the fold no. 6 on the test set: 0.6136363636363636\n",
      "Accuracy for the fold no. 7 on the test set: 0.5454545454545454\n",
      "Accuracy for the fold no. 8 on the test set: 0.5227272727272727\n",
      "Accuracy for the fold no. 9 on the test set: 0.5909090909090909\n",
      "\n",
      "average 10-fold cross validation Accuracy is: 0.581111111111111\n",
      "\n",
      "average 10-fold cross validation Accuracy percentage is: 58.1111111111111\n"
     ]
    }
   ],
   "source": [
    "from sklearn.model_selection import cross_validate\n",
    "avg_acc_score=0\n",
    "for i, score in enumerate(cross_validate(rf, X_train, y_train, scoring='accuracy', cv=10)[\"test_score\"]):\n",
    "    avg_acc_score += score\n",
    "    print(f\"Accuracy for the fold no. {i} on the test set: {score}\")\n",
    "print(f\"\\naverage 10-fold cross validation Accuracy is: {avg_acc_score/10}\")\n",
    "print(f\"\\naverage 10-fold cross validation Accuracy percentage is: {(avg_acc_score/10)*100}\")"
   ]
  },
  {
   "cell_type": "code",
   "execution_count": 726,
   "id": "e4622375",
   "metadata": {},
   "outputs": [
    {
     "name": "stdout",
     "output_type": "stream",
     "text": [
      "Precision for the fold no. 0 on the test set: 0.5043988269794721\n",
      "Precision for the fold no. 1 on the test set: 0.576984126984127\n",
      "Precision for the fold no. 2 on the test set: 0.4614695340501792\n",
      "Precision for the fold no. 3 on the test set: 0.5814722911497104\n",
      "Precision for the fold no. 4 on the test set: 0.5337465564738292\n",
      "Precision for the fold no. 5 on the test set: 0.6493506493506493\n",
      "Precision for the fold no. 6 on the test set: 0.599791013584117\n",
      "Precision for the fold no. 7 on the test set: 0.5439882697947215\n",
      "Precision for the fold no. 8 on the test set: 0.48770053475935826\n",
      "Precision for the fold no. 9 on the test set: 0.5331744868035191\n",
      "\n",
      "average 10-fold cross validation Precision is: 0.5472076289929684\n",
      "\n",
      "average 10-fold cross validation Precision percentage is: 54.72076289929684\n"
     ]
    }
   ],
   "source": [
    "avg_precision=0\n",
    "for i, score in enumerate(cross_validate(rf, X_train, y_train, scoring='precision_weighted', cv=10)[\"test_score\"]):\n",
    "    avg_precision += score\n",
    "    print(f\"Precision for the fold no. {i} on the test set: {score}\")\n",
    "print(f\"\\naverage 10-fold cross validation Precision is: {avg_precision/10}\")\n",
    "print(f\"\\naverage 10-fold cross validation Precision percentage is: {(avg_precision/10)*100}\")"
   ]
  },
  {
   "cell_type": "code",
   "execution_count": 727,
   "id": "bee69f18",
   "metadata": {},
   "outputs": [
    {
     "name": "stdout",
     "output_type": "stream",
     "text": [
      "Recall for the fold no. 0 on the test set: 0.5333333333333333\n",
      "Recall for the fold no. 1 on the test set: 0.6222222222222222\n",
      "Recall for the fold no. 2 on the test set: 0.5111111111111111\n",
      "Recall for the fold no. 3 on the test set: 0.6444444444444445\n",
      "Recall for the fold no. 4 on the test set: 0.5681818181818182\n",
      "Recall for the fold no. 5 on the test set: 0.6590909090909091\n",
      "Recall for the fold no. 6 on the test set: 0.6136363636363636\n",
      "Recall for the fold no. 7 on the test set: 0.5454545454545454\n",
      "Recall for the fold no. 8 on the test set: 0.5227272727272727\n",
      "Recall for the fold no. 9 on the test set: 0.5909090909090909\n",
      "\n",
      "average 10-fold cross validation Recall is: 0.581111111111111\n",
      "\n",
      "average 10-fold cross validation Recall percentage is: 58.1111111111111 \n"
     ]
    }
   ],
   "source": [
    "avg_recall=0\n",
    "for i, score in enumerate(cross_validate(rf, X_train, y_train, scoring='recall_weighted', cv=10)[\"test_score\"]):\n",
    "    avg_recall += score\n",
    "    print(f\"Recall for the fold no. {i} on the test set: {score}\")\n",
    "print(f\"\\naverage 10-fold cross validation Recall is: {avg_recall/10}\")\n",
    "print(f\"\\naverage 10-fold cross validation Recall percentage is: {(avg_recall/10)*100} \")"
   ]
  },
  {
   "cell_type": "code",
   "execution_count": 728,
   "id": "f087be5b",
   "metadata": {},
   "outputs": [
    {
     "name": "stdout",
     "output_type": "stream",
     "text": [
      "f1-score for the fold no. 0 on the test set: 0.510989010989011\n",
      "f1-score for the fold no. 1 on the test set: 0.5983228511530398\n",
      "f1-score for the fold no. 2 on the test set: 0.48059964726631393\n",
      "f1-score for the fold no. 3 on the test set: 0.6071428571428572\n",
      "f1-score for the fold no. 4 on the test set: 0.5338949843260188\n",
      "f1-score for the fold no. 5 on the test set: 0.6516934046345811\n",
      "f1-score for the fold no. 6 on the test set: 0.5988728252879197\n",
      "f1-score for the fold no. 7 on the test set: 0.5274793388429753\n",
      "f1-score for the fold no. 8 on the test set: 0.5044063079777366\n",
      "f1-score for the fold no. 9 on the test set: 0.5536271808999081\n",
      "\n",
      "average 10-fold cross validation f1-score is: 0.5567028408520363\n",
      "\n",
      "average 10-fold cross validation f1-score percentage is: 55.670284085203626\n"
     ]
    }
   ],
   "source": [
    "from sklearn.model_selection import cross_validate\n",
    "f1_score=0\n",
    "for i, score in enumerate(cross_validate(rf, X_train, y_train, scoring='f1_weighted', cv=10)[\"test_score\"]):\n",
    "    f1_score += score\n",
    "    print(f\"f1-score for the fold no. {i} on the test set: {score}\")\n",
    "print(f\"\\naverage 10-fold cross validation f1-score is: {f1_score/10}\")\n",
    "print(f\"\\naverage 10-fold cross validation f1-score percentage is: {(f1_score/10)*100}\")"
   ]
  },
  {
   "cell_type": "markdown",
   "id": "ab28da4f",
   "metadata": {},
   "source": [
    "## Improved model (Kernel SVM) - without preprocessing"
   ]
  },
  {
   "cell_type": "code",
   "execution_count": 729,
   "id": "f77b7dfd",
   "metadata": {},
   "outputs": [
    {
     "name": "stdout",
     "output_type": "stream",
     "text": [
      "[[ 0  0  6  2  0]\n",
      " [ 0  0  1  0  0]\n",
      " [ 0  0 23  5  0]\n",
      " [ 0  0  6  6  0]\n",
      " [ 0  0  0  1  0]]\n",
      "0.58\n",
      "                        precision    recall  f1-score   support\n",
      "\n",
      "attitudes and emotions       0.00      0.00      0.00         8\n",
      " hypothetical scenario       0.00      0.00      0.00         1\n",
      "               request       0.64      0.82      0.72        28\n",
      "            suggestion       0.43      0.50      0.46        12\n",
      "              surprise       0.00      0.00      0.00         1\n",
      "\n",
      "              accuracy                           0.58        50\n",
      "             macro avg       0.21      0.26      0.24        50\n",
      "          weighted avg       0.46      0.58      0.51        50\n",
      "\n",
      "Training set score :0.7702702702702703\n",
      "Test set score :0.58\n"
     ]
    }
   ],
   "source": [
    "svm_kernel = SVC(kernel = 'rbf', random_state = 0)\n",
    "svm_kernel.fit(X_train, y_train)\n",
    "\n",
    "y_pred_ksvm = svm_kernel.predict(X_test)\n",
    "cm = confusion_matrix(y_test, y_pred_ksvm)\n",
    "print(cm)\n",
    "print(accuracy_score(y_test, y_pred_ksvm))\n",
    "print(classification_report(y_test, y_pred_ksvm))\n",
    "print(\"Training set score :{}\".format(svm_kernel.score(X_train,y_train)))\n",
    "print(\"Test set score :{}\".format(svm_kernel.score(X_test,y_test)))"
   ]
  },
  {
   "cell_type": "code",
   "execution_count": 730,
   "id": "165ef0d6",
   "metadata": {},
   "outputs": [
    {
     "name": "stdout",
     "output_type": "stream",
     "text": [
      "Accuracy for the fold no. 0 on the test set: 0.6444444444444445\n",
      "Accuracy for the fold no. 1 on the test set: 0.6444444444444445\n",
      "Accuracy for the fold no. 2 on the test set: 0.6\n",
      "Accuracy for the fold no. 3 on the test set: 0.6222222222222222\n",
      "Accuracy for the fold no. 4 on the test set: 0.5909090909090909\n",
      "Accuracy for the fold no. 5 on the test set: 0.7272727272727273\n",
      "Accuracy for the fold no. 6 on the test set: 0.7045454545454546\n",
      "Accuracy for the fold no. 7 on the test set: 0.5681818181818182\n",
      "Accuracy for the fold no. 8 on the test set: 0.5681818181818182\n",
      "Accuracy for the fold no. 9 on the test set: 0.6590909090909091\n",
      "\n",
      "average 10-fold cross validation Accuracy is: 0.632929292929293\n",
      "\n",
      "average 10-fold cross validation Accuracy percentage is: 63.2929292929293\n"
     ]
    }
   ],
   "source": [
    "from sklearn.model_selection import cross_validate\n",
    "avg_acc_score=0\n",
    "for i, score in enumerate(cross_validate(svm_kernel, X_train, y_train, scoring='accuracy', cv=10)[\"test_score\"]):\n",
    "    avg_acc_score += score\n",
    "    print(f\"Accuracy for the fold no. {i} on the test set: {score}\")\n",
    "print(f\"\\naverage 10-fold cross validation Accuracy is: {avg_acc_score/10}\")\n",
    "print(f\"\\naverage 10-fold cross validation Accuracy percentage is: {(avg_acc_score/10)*100}\")"
   ]
  },
  {
   "cell_type": "code",
   "execution_count": 731,
   "id": "8974d139",
   "metadata": {},
   "outputs": [
    {
     "name": "stdout",
     "output_type": "stream",
     "text": [
      "Precision for the fold no. 0 on the test set: 0.5757575757575757\n",
      "Precision for the fold no. 1 on the test set: 0.5703703703703703\n",
      "Precision for the fold no. 2 on the test set: 0.5306513409961686\n",
      "Precision for the fold no. 3 on the test set: 0.5488991295442909\n",
      "Precision for the fold no. 4 on the test set: 0.5303030303030304\n",
      "Precision for the fold no. 5 on the test set: 0.6675324675324674\n",
      "Precision for the fold no. 6 on the test set: 0.6565656565656566\n",
      "Precision for the fold no. 7 on the test set: 0.5155791788856305\n",
      "Precision for the fold no. 8 on the test set: 0.5016233766233765\n",
      "Precision for the fold no. 9 on the test set: 0.6058884297520661\n",
      "\n",
      "average 10-fold cross validation Precision is: 0.5703170556330633\n",
      "\n",
      "average 10-fold cross validation Precision percentage is: 57.03170556330633\n"
     ]
    }
   ],
   "source": [
    "avg_precision=0\n",
    "for i, score in enumerate(cross_validate(svm_kernel, X_train, y_train, scoring='precision_weighted', cv=10)[\"test_score\"]):\n",
    "    avg_precision += score\n",
    "    print(f\"Precision for the fold no. {i} on the test set: {score}\")\n",
    "print(f\"\\naverage 10-fold cross validation Precision is: {avg_precision/10}\")\n",
    "print(f\"\\naverage 10-fold cross validation Precision percentage is: {(avg_precision/10)*100}\")"
   ]
  },
  {
   "cell_type": "code",
   "execution_count": 732,
   "id": "177712a1",
   "metadata": {},
   "outputs": [
    {
     "name": "stdout",
     "output_type": "stream",
     "text": [
      "Recall for the fold no. 0 on the test set: 0.6444444444444445\n",
      "Recall for the fold no. 1 on the test set: 0.6444444444444445\n",
      "Recall for the fold no. 2 on the test set: 0.6\n",
      "Recall for the fold no. 3 on the test set: 0.6222222222222222\n",
      "Recall for the fold no. 4 on the test set: 0.5909090909090909\n",
      "Recall for the fold no. 5 on the test set: 0.7272727272727273\n",
      "Recall for the fold no. 6 on the test set: 0.7045454545454546\n",
      "Recall for the fold no. 7 on the test set: 0.5681818181818182\n",
      "Recall for the fold no. 8 on the test set: 0.5681818181818182\n",
      "Recall for the fold no. 9 on the test set: 0.6590909090909091\n",
      "\n",
      "average 10-fold cross validation Recall is: 0.632929292929293\n",
      "\n",
      "average 10-fold cross validation Recall percentage is: 63.2929292929293 \n"
     ]
    }
   ],
   "source": [
    "avg_recall=0\n",
    "for i, score in enumerate(cross_validate(svm_kernel, X_train, y_train, scoring='recall_weighted', cv=10)[\"test_score\"]):\n",
    "    avg_recall += score\n",
    "    print(f\"Recall for the fold no. {i} on the test set: {score}\")\n",
    "print(f\"\\naverage 10-fold cross validation Recall is: {avg_recall/10}\")\n",
    "print(f\"\\naverage 10-fold cross validation Recall percentage is: {(avg_recall/10)*100} \")"
   ]
  },
  {
   "cell_type": "code",
   "execution_count": 733,
   "id": "8f1cf225",
   "metadata": {},
   "outputs": [
    {
     "name": "stdout",
     "output_type": "stream",
     "text": [
      "f1-score for the fold no. 0 on the test set: 0.5998297147722434\n",
      "f1-score for the fold no. 1 on the test set: 0.604040404040404\n",
      "f1-score for the fold no. 2 on the test set: 0.5629895128103013\n",
      "f1-score for the fold no. 3 on the test set: 0.5807334428024082\n",
      "f1-score for the fold no. 4 on the test set: 0.5397727272727273\n",
      "f1-score for the fold no. 5 on the test set: 0.6909090909090909\n",
      "f1-score for the fold no. 6 on the test set: 0.679144385026738\n",
      "f1-score for the fold no. 7 on the test set: 0.5337924701561065\n",
      "f1-score for the fold no. 8 on the test set: 0.5325964358222423\n",
      "f1-score for the fold no. 9 on the test set: 0.6188811188811189\n",
      "\n",
      "average 10-fold cross validation f1-score is: 0.5942689302493382\n",
      "\n",
      "average 10-fold cross validation f1-score percentage is: 59.426893024933825\n"
     ]
    }
   ],
   "source": [
    "from sklearn.model_selection import cross_validate\n",
    "f1_score=0\n",
    "for i, score in enumerate(cross_validate(svm_kernel, X_train, y_train, scoring='f1_weighted', cv=10)[\"test_score\"]):\n",
    "    f1_score += score\n",
    "    print(f\"f1-score for the fold no. {i} on the test set: {score}\")\n",
    "print(f\"\\naverage 10-fold cross validation f1-score is: {f1_score/10}\")\n",
    "print(f\"\\naverage 10-fold cross validation f1-score percentage is: {(f1_score/10)*100}\")"
   ]
  },
  {
   "cell_type": "code",
   "execution_count": null,
   "id": "f10e6dbd",
   "metadata": {},
   "outputs": [],
   "source": []
  }
 ],
 "metadata": {
  "kernelspec": {
   "display_name": "Python 3",
   "language": "python",
   "name": "python3"
  },
  "language_info": {
   "codemirror_mode": {
    "name": "ipython",
    "version": 3
   },
   "file_extension": ".py",
   "mimetype": "text/x-python",
   "name": "python",
   "nbconvert_exporter": "python",
   "pygments_lexer": "ipython3",
   "version": "3.8.8"
  }
 },
 "nbformat": 4,
 "nbformat_minor": 5
}
